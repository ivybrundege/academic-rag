{
  "nbformat": 4,
  "nbformat_minor": 0,
  "metadata": {
    "colab": {
      "provenance": [],
      "collapsed_sections": [
        "ueqIhQq8VP2i",
        "d82jl4dJXCxJ",
        "EJPEWCuraxfI",
        "sifz8lQfhfsQ"
      ],
      "authorship_tag": "ABX9TyMDQclZJxzmzhTYPuvkxSSH",
      "include_colab_link": true
    },
    "kernelspec": {
      "name": "python3",
      "display_name": "Python 3"
    },
    "language_info": {
      "name": "python"
    }
  },
  "cells": [
    {
      "cell_type": "markdown",
      "metadata": {
        "id": "view-in-github",
        "colab_type": "text"
      },
      "source": [
        "<a href=\"https://colab.research.google.com/github/ivybrundege/academic-rag/blob/main/BlankFollowAlong.ipynb\" target=\"_parent\"><img src=\"https://colab.research.google.com/assets/colab-badge.svg\" alt=\"Open In Colab\"/></a>"
      ]
    },
    {
      "cell_type": "code",
      "execution_count": 1,
      "metadata": {
        "id": "HZM34WH1T23n"
      },
      "outputs": [],
      "source": [
        "#import statements- these allow us to use the packages that handle ML operations for us\n",
        "import pandas as pd #allows us to create data frames for data processing\n",
        "import numpy as np #allows sophisticated vector and data frame operations\n",
        "#import os\n",
        "import matplotlib.pyplot as plt #allows us to plot our results if desired\n",
        "import seaborn as sns #also used for plotting data\n",
        "\n",
        "## ML PACKAGES\n",
        "from sklearn.model_selection import train_test_split #splits our data for us.\n",
        "from sklearn.tree import DecisionTreeRegressor #the decision tree package\n",
        "from sklearn.metrics import root_mean_squared_error #one metric for how well our model works"
      ]
    },
    {
      "cell_type": "markdown",
      "source": [
        "# GWC @ VT: Intro to Supervised Learning\n",
        "In this notebook, we're going to illustrate the basic principles of the machine learning life cycle, starting with data and ending with a predictive model!\n",
        "\n",
        "Any spaces for you to fill in will be marked with a line of stars as a comment. You'll want to fill in wherever we have a comment with stars and an instruction.\n",
        "It'll look something like this:\n",
        "\n",
        "\n",
        "```\n",
        "# ************************************************\n",
        "#Let's start by importing our data\n",
        "filename = # ** ADD FILE NAME HERE **\n",
        "df =  # ** CREATE DATA FRAME HERE **\n",
        "```\n",
        "\n",
        "To edit a code box, just click on the box and start typing.\n",
        "\n",
        "Want to add your own text notes or code blocks? Just press the \"+ Code\" or \"+ Text\" buttons at the top of the screen. You can relocate boxes within the notebook by pressing the up or down arrows on the right side of the box.\n",
        "\n"
      ],
      "metadata": {
        "id": "RvOnk9YFUZdw"
      }
    },
    {
      "cell_type": "markdown",
      "source": [
        "## Step One: Business Understanding\n",
        "\n",
        "Can we predict the median house price in an area based on some data we have about the area?"
      ],
      "metadata": {
        "id": "6HqkJBPxUpmc"
      }
    },
    {
      "cell_type": "markdown",
      "source": [
        "## Step Two: Data Understanding\n",
        "Now that we have a problem, it is important to understand how we're actually going to use our data to solve this problem."
      ],
      "metadata": {
        "id": "ueqIhQq8VP2i"
      }
    },
    {
      "cell_type": "markdown",
      "source": [
        "### Build a Dataframe\n",
        "You can think of a data frame as a table of all our data, which allows us to do all of our preprocessing."
      ],
      "metadata": {
        "id": "JaT5fi63Vpd3"
      }
    },
    {
      "cell_type": "code",
      "source": [
        "# ************************************************\n",
        "#Let's start by importing our data\n",
        "filename = # ** ADD FILE NAME HERE **\n",
        "df =  # ** CREATE DATA FRAME HERE **"
      ],
      "metadata": {
        "id": "UkfCcUA5VgT2"
      },
      "execution_count": null,
      "outputs": []
    },
    {
      "cell_type": "code",
      "source": [
        "#next, let's print a few row from the data frame to see what we're working with.\n",
        "df.head()"
      ],
      "metadata": {
        "id": "r7Ib91UdWDWS"
      },
      "execution_count": null,
      "outputs": []
    },
    {
      "cell_type": "code",
      "source": [
        "#Let's also make sure that there's no null values:\n",
        "np.sum(df.isnull(), axis = 0)"
      ],
      "metadata": {
        "id": "jidTdXSgWMfr"
      },
      "execution_count": null,
      "outputs": []
    },
    {
      "cell_type": "markdown",
      "source": [
        "## Step Three: Data Preparation\n",
        "Here's where we prepare a training and test data set. We need to do a few things:\n",
        "\n",
        "\n",
        "1.   Prepare our data frame so that it only contains our label and desired features, and make sure they're in the correct format\n",
        "2.   Separate our data into a training and testing data set.\n",
        "\n"
      ],
      "metadata": {
        "id": "d82jl4dJXCxJ"
      }
    },
    {
      "cell_type": "code",
      "source": [
        "# ************************************************\n",
        "#1. First, let's only select the relevant variables. In this case, we want median housing age, total rooms, total bedrooms, and median income.\n",
        "df = # ** DROP THE NEEDED COLUMNS HERE **\n",
        "df.head()"
      ],
      "metadata": {
        "id": "4Iu-m0jGXhTL"
      },
      "execution_count": null,
      "outputs": []
    },
    {
      "cell_type": "code",
      "source": [
        "# ************************************************\n",
        "#2. Separate our data into y (the label) and X (the features)\n",
        "y = # **CREATE LABEL**\n",
        "X = # ** CREATE FEATURES **"
      ],
      "metadata": {
        "id": "maFAqdaEYsbu"
      },
      "execution_count": null,
      "outputs": []
    },
    {
      "cell_type": "code",
      "source": [
        "# ************************************************\n",
        "#3. Use sklearn to randomly separate our data into test and train sets\n",
        "X_train, X_test, y_train, y_test = # ** CREATE TRAIN AND TEST SETS**"
      ],
      "metadata": {
        "id": "8LzNd752Y0ib"
      },
      "execution_count": null,
      "outputs": []
    },
    {
      "cell_type": "markdown",
      "source": [
        "Things to note with the train_test_split method:\n",
        "*   Returns four sets: `X train, X test, y train, y test`. Note that this order is important!! Make sure to use this consistently\n",
        "*   `test_size` determines how big we want our test set. Here's we're using 0.3, or 30%, which is pretty typical.\n",
        "*   `random_state` is just used to set the random state. long story short, we're using that here to make sure we all get the same random split of data. This isn't something you need to worry about for your own data sets.\n",
        "\n",
        "\n",
        "\n"
      ],
      "metadata": {
        "id": "XAPv2NsYY-8l"
      }
    },
    {
      "cell_type": "code",
      "source": [
        "#Let's look at the size of our training and testing blocks.\n",
        "print(\"X train size: \" + str(X_train.shape))\n",
        "print(\"X test size: \" + str(X_test.shape))\n",
        "print(\"y train size: \" + str(y_train.shape))\n",
        "print(\"y test size: \" + str(y_test.shape))"
      ],
      "metadata": {
        "id": "zP0XODKFZoKc"
      },
      "execution_count": null,
      "outputs": []
    },
    {
      "cell_type": "markdown",
      "source": [
        "## Step Four: Modeling\n",
        "Here's the exciting part: let's make our model!!\n",
        "\n",
        "In this case, we're going to use a decision tree. This is a pretty basic model, with the following hyperparameters:\n",
        "\n",
        "1.   `max_depth`: how \"deep\" we'll allow the tree to go\n",
        "2.   `min_samples_leaf`: how large each leaf can be\n",
        "3.   `criterion`: the criteria for how the tree will train\n",
        "\n",
        "Let's start by making a function that will create, train, and evaluate a decision tree."
      ],
      "metadata": {
        "id": "EJPEWCuraxfI"
      }
    },
    {
      "cell_type": "code",
      "source": [
        "# ************************************************\n",
        "#creates a method to train and test a decision tree!\n",
        "\n",
        "def train_test_DT(X_train, X_test, y_train, y_test, depth, leaf=1, crit='squared_error'):\n",
        "  model = #** #1: CREATE MODEL OBJECT **\n",
        "  #** #2: TRAIN MODEL WITH TRAIN DATA**\n",
        "  predictions = #** #3: USE MODEL TO MAKE PREDICTIONS**\n",
        "  mse_score = #** #4: CALCULATE RMSE FOR MODEL**\n",
        "  return mse_score"
      ],
      "metadata": {
        "id": "liD3JIxpcA_e"
      },
      "execution_count": null,
      "outputs": []
    },
    {
      "cell_type": "markdown",
      "source": [
        "Some explanation of what's happening here:\n",
        "\n",
        "Parameters: These are how we specify the details of our tree\n",
        "*   `depth`: sets the max depth\n",
        "*   `leaf`: sets the minimum leaves. we're starting by setting it to 1 as a default\n",
        "*   `crit`: sets the criterion. we're making it mse by default\n",
        "\n",
        "What the function does:\n",
        "*   #1: creates a `DecisionTreeRegressor` object with the hyperparameters we set using the function parameters\n",
        "*   #2: fits the model to our data. This is the training step\n",
        "*   #3: creates a set of predictions for our test data set\n",
        "*   #4: Calculates the root mean squared error. This is just one of many methods we can use to evaluate how well our model predicts new data points.\n",
        "\n",
        "\n",
        "\n",
        "\n"
      ],
      "metadata": {
        "id": "XPCMpvnUcYpU"
      }
    },
    {
      "cell_type": "code",
      "source": [
        "# ************************************************\n",
        "#Let's use this to make and test a series of trees with different depths!\n",
        "max_depth_range = [] # ** ADD SOME DEPTH VALUES**\n",
        "mse = [] #this will hold our outcomes\n",
        "\n",
        "for md in max_depth_range:\n",
        "  print(md)\n",
        "  mse_score = # ** CALL OUR FUNCTION USING MD AS DEPTH **\n",
        "  mse.append(mse_score)\n",
        "  print(mse_score)"
      ],
      "metadata": {
        "id": "bJCTQyGWdUwW"
      },
      "execution_count": null,
      "outputs": []
    },
    {
      "cell_type": "markdown",
      "source": [
        "We've now made a model! However, our work's not done. We need to tune the hyperparameters to make a better model.\n",
        "\n",
        "Let's start by looking at which of those depths we chose was the best:"
      ],
      "metadata": {
        "id": "qptnELEseIaB"
      }
    },
    {
      "cell_type": "code",
      "source": [
        "#Graph the results of mse_score\n",
        "fig = plt.figure()\n",
        "ax = fig.add_subplot(111)\n",
        "\n",
        "sns.lineplot(x = max_depth_range, y = mse)\n",
        "\n",
        "plt.title('Test set RMSE of the DT predictions, for $max\\_depth\\in\\{1, 50\\}$')\n",
        "ax.set_xlabel('max_depth')\n",
        "ax.set_ylabel('root mean squared error')\n",
        "plt.show()"
      ],
      "metadata": {
        "id": "9k1XHloKeVou"
      },
      "execution_count": null,
      "outputs": []
    },
    {
      "cell_type": "markdown",
      "source": [
        "In reality, we'll want to do much more exhaustive hyperparameter tuning, such as a grid search, which allows us to iterate through different combinations of hyperparameters.\n",
        "\n",
        "In this case, we're just going to look at leaf size and call it good for the sake of time :)\n"
      ],
      "metadata": {
        "id": "rg92vIbEeqw4"
      }
    },
    {
      "cell_type": "code",
      "source": [
        "# ************************************************\n",
        "#Look at different leaf sizes\n",
        "#Let's use this to make and test a series of trees with different depths!\n",
        "min_leaf_range = [] # ** SPECIFY LEAF SIZES\n",
        "mse = [] #this will hold our outcomes\n",
        "\n",
        "for ml in min_leaf_range:\n",
        "  print(ml)\n",
        "  mse_score = train_test_DT(X_train, X_test, y_train, y_test, depth = 7, leaf = ml)\n",
        "  mse.append(mse_score)\n",
        "  print(mse_score)"
      ],
      "metadata": {
        "id": "AdNez4GvgT4J"
      },
      "execution_count": null,
      "outputs": []
    },
    {
      "cell_type": "code",
      "source": [
        "#Graph the results of mse_score for leaf size\n",
        "fig = plt.figure()\n",
        "ax = fig.add_subplot(111)\n",
        "\n",
        "sns.lineplot(x = min_leaf_range, y = mse)\n",
        "\n",
        "plt.title('Test set RMSE of the DT predictions, for $min\\_leaf\\in\\{1, 21\\}$')\n",
        "ax.set_xlabel('min_leaf')\n",
        "ax.set_ylabel('root mean squared error')\n",
        "plt.show()"
      ],
      "metadata": {
        "id": "1Wmz6EKmg72N"
      },
      "execution_count": null,
      "outputs": []
    },
    {
      "cell_type": "markdown",
      "source": [
        "Ok, let's make our final model using our selected hyperparameters!"
      ],
      "metadata": {
        "id": "RvLM3JrPhUXt"
      }
    },
    {
      "cell_type": "code",
      "source": [
        "# ************************************************\n",
        "#Our final model!!\n",
        "final_model = #** CREATE FINAL MODEL**\n",
        "# ** TRAIN FINAL MODEL"
      ],
      "metadata": {
        "id": "2bnxhKhGhZu7"
      },
      "execution_count": null,
      "outputs": []
    },
    {
      "cell_type": "markdown",
      "source": [
        "## Step Five: Evaluation\n",
        "Let's look at how well our model performs!"
      ],
      "metadata": {
        "id": "sifz8lQfhfsQ"
      }
    },
    {
      "cell_type": "code",
      "source": [
        "#Use the \"score\" method to evaluate our performance.\n",
        "print(\"Train set score: \" + str(final_model.score(X_train, y_train)))\n",
        "print(\"Test set score: \" + str(final_model.score(X_test, y_test)))"
      ],
      "metadata": {
        "id": "GXn5YSTqhmz1"
      },
      "execution_count": null,
      "outputs": []
    },
    {
      "cell_type": "markdown",
      "source": [
        "Here, we really want to focus on test set score! This is an indicator of how our model will perform on real world, previously unseen data.\n",
        "\n",
        "A score of 0.56 is... fine. It'll depend on your project specification if this is good enough. Real world applications will also use plenty of other validation techniques to determine efficacy.\n",
        "\n",
        "However, this exemplifies one of the reasons more advanced techniques were made. For example, Random Forest is an ensemble model which actually combines multiple decision trees. Going further, neural nets use an entirely different design, which includes hidden layers that allow additional processing.\n",
        "\n",
        "Note that even with these more advanced techniques, this life cycle process is the same! The hyperparameters you're tuning will be different, but you can follow these same steps :)"
      ],
      "metadata": {
        "id": "RWAJoWUkiOWc"
      }
    },
    {
      "cell_type": "markdown",
      "source": [
        "## Step Six: Deployment\n",
        "Time to make your model known! Some options:\n",
        "\n",
        "*   GitHub: make your own repo to share your code with the public, or even invite others to collaborate\n",
        "*   Online: create a website that uses your model!\n",
        "*   User Interface: make a usable interface so that people don't need to interact with the code to use the model!"
      ],
      "metadata": {
        "id": "ezzazhVPjLDt"
      }
    }
  ]
}
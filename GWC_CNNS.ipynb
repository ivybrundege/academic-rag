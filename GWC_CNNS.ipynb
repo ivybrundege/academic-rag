{
  "nbformat": 4,
  "nbformat_minor": 0,
  "metadata": {
    "colab": {
      "provenance": [],
      "authorship_tag": "ABX9TyPtoqtW5x+7xCJVotTcJa54",
      "include_colab_link": true
    },
    "kernelspec": {
      "name": "python3",
      "display_name": "Python 3"
    },
    "language_info": {
      "name": "python"
    }
  },
  "cells": [
    {
      "cell_type": "markdown",
      "metadata": {
        "id": "view-in-github",
        "colab_type": "text"
      },
      "source": [
        "<a href=\"https://colab.research.google.com/github/ivybrundege/academic-rag/blob/main/GWC_CNNS.ipynb\" target=\"_parent\"><img src=\"https://colab.research.google.com/assets/colab-badge.svg\" alt=\"Open In Colab\"/></a>"
      ]
    },
    {
      "cell_type": "code",
      "execution_count": 10,
      "metadata": {
        "id": "bpEymlLf8T7o"
      },
      "outputs": [],
      "source": [
        "import numpy as np\n",
        "from sklearn import datasets\n",
        "import tensorflow.keras as keras\n",
        "import tensorflow as tf\n",
        "import matplotlib.pyplot as plt\n",
        "import seaborn as sns\n"
      ]
    },
    {
      "cell_type": "markdown",
      "source": [
        "# GWC@VT: Convolutional Neural Networks"
      ],
      "metadata": {
        "id": "DkKtIoy88WBW"
      }
    },
    {
      "cell_type": "markdown",
      "source": [
        "## Explore our Data\n",
        "Today, we'll be using the MNIST dataset, which contains a series of handwritten digit images we're gonna try to identify.\n",
        "\n",
        "This dataset can be loaded straight from Keras."
      ],
      "metadata": {
        "id": "fwncM9ZG89wI"
      }
    },
    {
      "cell_type": "code",
      "source": [
        "digits = keras.datasets.mnist\n",
        "\n",
        "(X_train, y_train), (X_test, y_test) = digits.load_data()"
      ],
      "metadata": {
        "id": "KT9Dym2i8ZXv"
      },
      "execution_count": 26,
      "outputs": []
    },
    {
      "cell_type": "markdown",
      "source": [
        "Looking more closely at the images:\n",
        "\n",
        "\n",
        "*   The features describe a grayscale image.\n",
        "*   The label here is a classification- 1-9\n",
        "\n",
        "\n"
      ],
      "metadata": {
        "id": "ZTfADQtH9-Cn"
      }
    },
    {
      "cell_type": "markdown",
      "source": [
        "For example, let's visualize one of the numbers in our training set!"
      ],
      "metadata": {
        "id": "jGb9rcgi-VNQ"
      }
    },
    {
      "cell_type": "code",
      "source": [
        "sns.heatmap(X_train[4], cmap = 'gray')"
      ],
      "metadata": {
        "colab": {
          "base_uri": "https://localhost:8080/",
          "height": 447
        },
        "id": "_GhMy8A1-dBd",
        "outputId": "64570e6c-f731-4a43-9040-9f5f27926d9d"
      },
      "execution_count": 12,
      "outputs": [
        {
          "output_type": "execute_result",
          "data": {
            "text/plain": [
              "<Axes: >"
            ]
          },
          "metadata": {},
          "execution_count": 12
        },
        {
          "output_type": "display_data",
          "data": {
            "text/plain": [
              "<Figure size 640x480 with 2 Axes>"
            ],
            "image/png": "[encoded data removed]"
          },
          "metadata": {}
        }
      ]
    },
    {
      "cell_type": "code",
      "source": [
        "y_train[4]"
      ],
      "metadata": {
        "colab": {
          "base_uri": "https://localhost:8080/"
        },
        "id": "1R95HH2N-m9W",
        "outputId": "50d9fa6c-dd9f-496a-9cc8-9e430f2a46bd"
      },
      "execution_count": 13,
      "outputs": [
        {
          "output_type": "execute_result",
          "data": {
            "text/plain": [
              "9"
            ]
          },
          "metadata": {},
          "execution_count": 13
        }
      ]
    },
    {
      "cell_type": "markdown",
      "source": [
        "## Prepare Data\n",
        "Now, let's get the data ready into a form that will work with our model"
      ],
      "metadata": {
        "id": "Oq25-IUV-zRO"
      }
    },
    {
      "cell_type": "code",
      "source": [
        "#1. Normalize.\n",
        "X_record = X_test #saving for later to observe.\n",
        "X_train = X_train.astype(\"float32\") / 255.0\n",
        "X_test = X_test.astype(\"float32\") / 255.0\n",
        "\n",
        "#2. Reshape.\n",
        "X_train = X_train.reshape(X_train.shape[0], 28, 28, 1)\n",
        "X_test = X_test.reshape(X_test.shape[0], 28, 28, 1)"
      ],
      "metadata": {
        "id": "BWAH3b10-4ge"
      },
      "execution_count": 27,
      "outputs": []
    },
    {
      "cell_type": "markdown",
      "source": [
        "What does reshaping mean?\n",
        "\n",
        "We need to supply our input to our model in a specific format, where we provide it four things: number of examples (images), image dimensions (x and y), and the number of color channels.\n",
        "\n",
        "\n",
        "*   Number of examples: just the size of X train\n",
        "*   X dimension: 28\n",
        "*   Y dimension: 28\n",
        "*   Color channels: 1 (grayscale)\n",
        "\n",
        "\n",
        "\n"
      ],
      "metadata": {
        "id": "taUTSfsc_N95"
      }
    },
    {
      "cell_type": "markdown",
      "source": [
        "## Make our model!\n",
        "Now, let's actually make the model. Again, we'll be using Keras. Unlike in a normal neural network where we just supply dense layers for the hidden layers, we'll be using some convolutional layers as well as some pooling layers."
      ],
      "metadata": {
        "id": "tuMOVK20_3mA"
      }
    },
    {
      "cell_type": "code",
      "source": [
        "#1. Create our object\n",
        "model = keras.Sequential()\n",
        "\n",
        "#2. First layer: input\n",
        "input = keras.layers.Input(shape = (28, 28, 1)) #??\n",
        "model.add(input) #add layer to model\n",
        "\n",
        "#3. For our first hidden layer, let's do a convolutional layer\n",
        "c1 = keras.layers.Conv2D(filters = 32, kernel_size = 3, activation = 'relu')\n",
        "model.add(c1)\n",
        "#option-- add batchnorm here.\n",
        "\n",
        "#4. continue some more convolutional layers\n",
        "c2 = keras.layers.Conv2D(filters = 64, kernel_size = 3, activation = 'relu')\n",
        "model.add(c2)\n",
        "\n",
        "c3 = keras.layers.Conv2D(filters = 128, kernel_size = 3, activation = 'relu')\n",
        "model.add(c3)\n",
        "\n",
        "#5. Let's also add our pooling layer!\n",
        "pool = keras.layers.GlobalAveragePooling2D()\n",
        "model.add(pool)\n",
        "\n",
        "#examine our resulting model.\n",
        "model.summary()"
      ],
      "metadata": {
        "colab": {
          "base_uri": "https://localhost:8080/",
          "height": 275
        },
        "id": "YXP2DH7TAJHG",
        "outputId": "b9f136b8-e308-4f6d-cb33-3f86874e1891"
      },
      "execution_count": 18,
      "outputs": [
        {
          "output_type": "display_data",
          "data": {
            "text/plain": [
              "\u001b[1mModel: \"sequential_2\"\u001b[0m\n"
            ],
            "text/html": [
              "<pre style=\"white-space:pre;overflow-x:auto;line-height:normal;font-family:Menlo,'DejaVu Sans Mono',consolas,'Courier New',monospace\"><span style=\"font-weight: bold\">Model: \"sequential_2\"</span>\n",
              "</pre>\n"
            ]
          },
          "metadata": {}
        },
        {
          "output_type": "display_data",
          "data": {
            "text/plain": [
              "┏━━━━━━━━━━━━━━━━━━━━━━━━━━━━━━━━━━━━━━┳━━━━━━━━━━━━━━━━━━━━━━━━━━━━━┳━━━━━━━━━━━━━━━━━┓\n",
              "┃\u001b[1m \u001b[0m\u001b[1mLayer (type)                        \u001b[0m\u001b[1m \u001b[0m┃\u001b[1m \u001b[0m\u001b[1mOutput Shape               \u001b[0m\u001b[1m \u001b[0m┃\u001b[1m \u001b[0m\u001b[1m        Param #\u001b[0m\u001b[1m \u001b[0m┃\n",
              "┡━━━━━━━━━━━━━━━━━━━━━━━━━━━━━━━━━━━━━━╇━━━━━━━━━━━━━━━━━━━━━━━━━━━━━╇━━━━━━━━━━━━━━━━━┩\n",
              "│ conv2d_1 (\u001b[38;5;33mConv2D\u001b[0m)                    │ (\u001b[38;5;45mNone\u001b[0m, \u001b[38;5;34m26\u001b[0m, \u001b[38;5;34m26\u001b[0m, \u001b[38;5;34m32\u001b[0m)          │             \u001b[38;5;34m320\u001b[0m │\n",
              "├──────────────────────────────────────┼─────────────────────────────┼─────────────────┤\n",
              "│ conv2d_2 (\u001b[38;5;33mConv2D\u001b[0m)                    │ (\u001b[38;5;45mNone\u001b[0m, \u001b[38;5;34m24\u001b[0m, \u001b[38;5;34m24\u001b[0m, \u001b[38;5;34m64\u001b[0m)          │          \u001b[38;5;34m18,496\u001b[0m │\n",
              "├──────────────────────────────────────┼─────────────────────────────┼─────────────────┤\n",
              "│ conv2d_3 (\u001b[38;5;33mConv2D\u001b[0m)                    │ (\u001b[38;5;45mNone\u001b[0m, \u001b[38;5;34m22\u001b[0m, \u001b[38;5;34m22\u001b[0m, \u001b[38;5;34m128\u001b[0m)         │          \u001b[38;5;34m73,856\u001b[0m │\n",
              "├──────────────────────────────────────┼─────────────────────────────┼─────────────────┤\n",
              "│ global_average_pooling2d             │ (\u001b[38;5;45mNone\u001b[0m, \u001b[38;5;34m128\u001b[0m)                 │               \u001b[38;5;34m0\u001b[0m │\n",
              "│ (\u001b[38;5;33mGlobalAveragePooling2D\u001b[0m)             │                             │                 │\n",
              "└──────────────────────────────────────┴─────────────────────────────┴─────────────────┘\n"
            ],
            "text/html": [
              "<pre style=\"white-space:pre;overflow-x:auto;line-height:normal;font-family:Menlo,'DejaVu Sans Mono',consolas,'Courier New',monospace\">┏━━━━━━━━━━━━━━━━━━━━━━━━━━━━━━━━━━━━━━┳━━━━━━━━━━━━━━━━━━━━━━━━━━━━━┳━━━━━━━━━━━━━━━━━┓\n",
              "┃<span style=\"font-weight: bold\"> Layer (type)                         </span>┃<span style=\"font-weight: bold\"> Output Shape                </span>┃<span style=\"font-weight: bold\">         Param # </span>┃\n",
              "┡━━━━━━━━━━━━━━━━━━━━━━━━━━━━━━━━━━━━━━╇━━━━━━━━━━━━━━━━━━━━━━━━━━━━━╇━━━━━━━━━━━━━━━━━┩\n",
              "│ conv2d_1 (<span style=\"color: #0087ff; text-decoration-color: #0087ff\">Conv2D</span>)                    │ (<span style=\"color: #00d7ff; text-decoration-color: #00d7ff\">None</span>, <span style=\"color: #00af00; text-decoration-color: #00af00\">26</span>, <span style=\"color: #00af00; text-decoration-color: #00af00\">26</span>, <span style=\"color: #00af00; text-decoration-color: #00af00\">32</span>)          │             <span style=\"color: #00af00; text-decoration-color: #00af00\">320</span> │\n",
              "├──────────────────────────────────────┼─────────────────────────────┼─────────────────┤\n",
              "│ conv2d_2 (<span style=\"color: #0087ff; text-decoration-color: #0087ff\">Conv2D</span>)                    │ (<span style=\"color: #00d7ff; text-decoration-color: #00d7ff\">None</span>, <span style=\"color: #00af00; text-decoration-color: #00af00\">24</span>, <span style=\"color: #00af00; text-decoration-color: #00af00\">24</span>, <span style=\"color: #00af00; text-decoration-color: #00af00\">64</span>)          │          <span style=\"color: #00af00; text-decoration-color: #00af00\">18,496</span> │\n",
              "├──────────────────────────────────────┼─────────────────────────────┼─────────────────┤\n",
              "│ conv2d_3 (<span style=\"color: #0087ff; text-decoration-color: #0087ff\">Conv2D</span>)                    │ (<span style=\"color: #00d7ff; text-decoration-color: #00d7ff\">None</span>, <span style=\"color: #00af00; text-decoration-color: #00af00\">22</span>, <span style=\"color: #00af00; text-decoration-color: #00af00\">22</span>, <span style=\"color: #00af00; text-decoration-color: #00af00\">128</span>)         │          <span style=\"color: #00af00; text-decoration-color: #00af00\">73,856</span> │\n",
              "├──────────────────────────────────────┼─────────────────────────────┼─────────────────┤\n",
              "│ global_average_pooling2d             │ (<span style=\"color: #00d7ff; text-decoration-color: #00d7ff\">None</span>, <span style=\"color: #00af00; text-decoration-color: #00af00\">128</span>)                 │               <span style=\"color: #00af00; text-decoration-color: #00af00\">0</span> │\n",
              "│ (<span style=\"color: #0087ff; text-decoration-color: #0087ff\">GlobalAveragePooling2D</span>)             │                             │                 │\n",
              "└──────────────────────────────────────┴─────────────────────────────┴─────────────────┘\n",
              "</pre>\n"
            ]
          },
          "metadata": {}
        },
        {
          "output_type": "display_data",
          "data": {
            "text/plain": [
              "\u001b[1m Total params: \u001b[0m\u001b[38;5;34m92,672\u001b[0m (362.00 KB)\n"
            ],
            "text/html": [
              "<pre style=\"white-space:pre;overflow-x:auto;line-height:normal;font-family:Menlo,'DejaVu Sans Mono',consolas,'Courier New',monospace\"><span style=\"font-weight: bold\"> Total params: </span><span style=\"color: #00af00; text-decoration-color: #00af00\">92,672</span> (362.00 KB)\n",
              "</pre>\n"
            ]
          },
          "metadata": {}
        },
        {
          "output_type": "display_data",
          "data": {
            "text/plain": [
              "\u001b[1m Trainable params: \u001b[0m\u001b[38;5;34m92,672\u001b[0m (362.00 KB)\n"
            ],
            "text/html": [
              "<pre style=\"white-space:pre;overflow-x:auto;line-height:normal;font-family:Menlo,'DejaVu Sans Mono',consolas,'Courier New',monospace\"><span style=\"font-weight: bold\"> Trainable params: </span><span style=\"color: #00af00; text-decoration-color: #00af00\">92,672</span> (362.00 KB)\n",
              "</pre>\n"
            ]
          },
          "metadata": {}
        },
        {
          "output_type": "display_data",
          "data": {
            "text/plain": [
              "\u001b[1m Non-trainable params: \u001b[0m\u001b[38;5;34m0\u001b[0m (0.00 B)\n"
            ],
            "text/html": [
              "<pre style=\"white-space:pre;overflow-x:auto;line-height:normal;font-family:Menlo,'DejaVu Sans Mono',consolas,'Courier New',monospace\"><span style=\"font-weight: bold\"> Non-trainable params: </span><span style=\"color: #00af00; text-decoration-color: #00af00\">0</span> (0.00 B)\n",
              "</pre>\n"
            ]
          },
          "metadata": {}
        }
      ]
    },
    {
      "cell_type": "markdown",
      "source": [
        "We also need to create an optimization function and loss function that our model will use during the training process. We can define these when we make the model, or we can make our own."
      ],
      "metadata": {
        "id": "nhFqkXdkBCY9"
      }
    },
    {
      "cell_type": "code",
      "source": [
        "optimize = keras.optimizers.Adam(learning_rate = 0.001)\n",
        "loss = keras.losses.SparseCategoricalCrossentropy()"
      ],
      "metadata": {
        "id": "6TWE4VYGBCAe"
      },
      "execution_count": 19,
      "outputs": []
    },
    {
      "cell_type": "markdown",
      "source": [
        "Now, let's compile our model! This is where we combine all of these components we just created"
      ],
      "metadata": {
        "id": "JblMoo2dBRhI"
      }
    },
    {
      "cell_type": "code",
      "source": [
        "model.compile(optimizer=optimize, loss=loss, metrics=['accuracy'])"
      ],
      "metadata": {
        "id": "XLzgqaoGBT8B"
      },
      "execution_count": 20,
      "outputs": []
    },
    {
      "cell_type": "markdown",
      "source": [
        "## Train our Model\n",
        "Now it's time to train!"
      ],
      "metadata": {
        "id": "X_avvRxQBY04"
      }
    },
    {
      "cell_type": "code",
      "source": [
        "num_epochs = 1\n",
        "#this dataset is HUGE, as are the number of parameters.\n",
        "#Run with more epochs at your own risk :)"
      ],
      "metadata": {
        "id": "CqojGXp_BbtP"
      },
      "execution_count": 21,
      "outputs": []
    },
    {
      "cell_type": "code",
      "source": [
        "history = model.fit(X_train, y_train, epochs=num_epochs, validation_split=0.2)"
      ],
      "metadata": {
        "colab": {
          "base_uri": "https://localhost:8080/"
        },
        "id": "vuAWCNHZBmp7",
        "outputId": "b0c5de4c-c8de-4a71-b420-98154c97d443"
      },
      "execution_count": 22,
      "outputs": [
        {
          "output_type": "stream",
          "name": "stdout",
          "text": [
            "\u001b[1m1500/1500\u001b[0m \u001b[32m━━━━━━━━━━━━━━━━━━━━\u001b[0m\u001b[37m\u001b[0m \u001b[1m322s\u001b[0m 214ms/step - accuracy: 0.1152 - loss: 2.3161 - val_accuracy: 0.1583 - val_loss: 2.2210\n"
          ]
        }
      ]
    },
    {
      "cell_type": "markdown",
      "source": [
        "## Evaluate our Model!\n",
        "Let's see how our model performed so far."
      ],
      "metadata": {
        "id": "HFOaeHn6DAyg"
      }
    },
    {
      "cell_type": "code",
      "source": [
        "loss, accuracy = model.evaluate(X_test, y_test)\n",
        "print(f\"Loss: {loss}\")\n",
        "print(f\"Accuracy: {accuracy}\")"
      ],
      "metadata": {
        "colab": {
          "base_uri": "https://localhost:8080/"
        },
        "id": "sVLfOyfhDEkw",
        "outputId": "72d9a6a2-7d1d-41ef-c003-cc474b8837f6"
      },
      "execution_count": 24,
      "outputs": [
        {
          "output_type": "stream",
          "name": "stdout",
          "text": [
            "\u001b[1m313/313\u001b[0m \u001b[32m━━━━━━━━━━━━━━━━━━━━\u001b[0m\u001b[37m\u001b[0m \u001b[1m19s\u001b[0m 61ms/step - accuracy: 0.1771 - loss: 2.2246\n",
            "Loss: 2.2262942790985107\n",
            "Accuracy: 0.16200000047683716\n"
          ]
        }
      ]
    },
    {
      "cell_type": "markdown",
      "source": [
        "We can also observe our model in action!\n",
        "\n",
        "A *logit* is a vector output for a classification problem. It basically says how likely an image is to fall into any given category. For example, since our categories here are [0,9], we'll get an output vector with ten items. The first value tells us how likely the model thinks that the image is a 0, the second for a 1, and so on."
      ],
      "metadata": {
        "id": "QZ3OiP6hDcOS"
      }
    },
    {
      "cell_type": "code",
      "source": [
        "#let's retrieve the logits for the test\n",
        "logits = model.predict(X_test)\n",
        "\n",
        "#now, we can use argmax to get the highest value for each. this corresponds with the category the model chose\n",
        "predictions = logits.argmax(axis = 1)\n",
        "\n"
      ],
      "metadata": {
        "colab": {
          "base_uri": "https://localhost:8080/"
        },
        "id": "wORN_6fXD3hv",
        "outputId": "0c5c05dc-9fd9-4d34-c12f-3ca13e87573b"
      },
      "execution_count": 31,
      "outputs": [
        {
          "output_type": "stream",
          "name": "stdout",
          "text": [
            "\u001b[1m313/313\u001b[0m \u001b[32m━━━━━━━━━━━━━━━━━━━━\u001b[0m\u001b[37m\u001b[0m \u001b[1m19s\u001b[0m 60ms/step\n"
          ]
        }
      ]
    },
    {
      "cell_type": "code",
      "source": [
        "#let's compare!\n",
        "sns.heatmap(X_record[4], cmap = 'gray')\n",
        "print(predictions[4])"
      ],
      "metadata": {
        "colab": {
          "base_uri": "https://localhost:8080/",
          "height": 447
        },
        "id": "uxMQ8dkzE2gc",
        "outputId": "7e52f2a4-8635-4c63-807d-ef64f52b2407"
      },
      "execution_count": 32,
      "outputs": [
        {
          "output_type": "stream",
          "name": "stdout",
          "text": [
            "0\n"
          ]
        },
        {
          "output_type": "display_data",
          "data": {
            "text/plain": [
              "<Figure size 640x480 with 2 Axes>"
            ],
            "image/png": "[encoded data removed]"
          },
          "metadata": {}
        }
      ]
    }
  ]
}